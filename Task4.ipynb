{
  "nbformat": 4,
  "nbformat_minor": 5,
  "metadata": {
    "kernelspec": {
      "name": "python38864bitdataanalysisconda564580263a49439e8a15d442db35f58c",
      "display_name": "Python 3.8.8 64-bit ('DataAnalysis': conda)"
    },
    "language_info": {
      "codemirror_mode": {
        "name": "ipython",
        "version": 3
      },
      "file_extension": ".py",
      "mimetype": "text/x-python",
      "name": "python",
      "nbconvert_exporter": "python",
      "pygments_lexer": "ipython3",
      "version": "3.8.8"
    },
    "metadata": {
      "interpreter": {
        "hash": "13195b30c93389c2f22c088a884d3bf0266e65f0fdc223a2c6a1b0cccf225297"
      }
    },
    "colab": {
      "name": "Task4.ipynb",
      "provenance": []
    }
  },
  "cells": [
    {
      "cell_type": "markdown",
      "metadata": {
        "id": "TEaqdKZjJSJq"
      },
      "source": [
        "Shyju Kozhisseri<br/>ID: 309572<br/>Group: J41323c"
      ],
      "id": "TEaqdKZjJSJq"
    },
    {
      "cell_type": "markdown",
      "metadata": {
        "id": "wnNNlZqBJSJ9"
      },
      "source": [
        "## Import Data"
      ],
      "id": "wnNNlZqBJSJ9"
    },
    {
      "cell_type": "code",
      "metadata": {
        "id": "indian-franchise"
      },
      "source": [
        "import matplotlib.pyplot as plt\n",
        "import matplotlib\n",
        "import numpy as np\n",
        "import pandas as pd\n",
        "import seaborn as sns\n",
        "import scipy.stats as stats\n",
        "from statsmodels.tsa.ar_model import AutoReg\n",
        "from sklearn.metrics import mean_squared_error, r2_score, mean_absolute_error\n",
        "from sklearn.preprocessing import MinMaxScaler\n",
        "from sklearn.decomposition import PCA\n",
        "import statsmodels.api as sm\n",
        "import warnings\n",
        "warnings.filterwarnings(\"ignore\",category=DeprecationWarning)\n",
        "warnings.filterwarnings(\"ignore\",category=matplotlib.MatplotlibDeprecationWarning)"
      ],
      "id": "indian-franchise",
      "execution_count": null,
      "outputs": []
    },
    {
      "cell_type": "code",
      "metadata": {
        "id": "excess-shipping"
      },
      "source": [
        "input = pd.read_csv('garments_worker_productivity.csv')"
      ],
      "id": "excess-shipping",
      "execution_count": null,
      "outputs": []
    },
    {
      "cell_type": "code",
      "metadata": {
        "id": "bizarre-choir",
        "outputId": "cc70fda3-7887-47c5-ee13-7b3542a675f5"
      },
      "source": [
        "input.head()"
      ],
      "id": "bizarre-choir",
      "execution_count": null,
      "outputs": []
    },
    {
      "cell_type": "code",
      "metadata": {
        "id": "superb-aviation",
        "outputId": "490ff428-dcb1-4470-fa5f-c4bc1ee6ca19"
      },
      "source": [
        "input.describe()"
      ],
      "id": "superb-aviation",
      "execution_count": null,
      "outputs": []
    },
    {
      "cell_type": "code",
      "metadata": {
        "id": "asian-garage",
        "outputId": "d6eda509-c269-41be-89d9-88a73af09a25"
      },
      "source": [
        "input.isna().sum()"
      ],
      "id": "asian-garage",
      "execution_count": null,
      "outputs": []
    },
    {
      "cell_type": "code",
      "metadata": {
        "id": "TlIBOk9JJSKC",
        "outputId": "51ba5a16-54fe-405d-9b3e-a02fab5c8229"
      },
      "source": [
        "sub_sample = input[['date', 'team', 'smv', 'no_of_workers', 'wip', 'over_time', 'incentive', 'idle_time', 'idle_men', 'no_of_style_change', 'targeted_productivity', 'actual_productivity']]\n",
        "sub_sample"
      ],
      "id": "TlIBOk9JJSKC",
      "execution_count": null,
      "outputs": []
    },
    {
      "cell_type": "code",
      "metadata": {
        "id": "ISMF4BeTJSKD",
        "outputId": "aa0b10b5-d68c-4f48-df21-ea8db7c357f0"
      },
      "source": [
        "sub_sample = sub_sample.fillna(sub_sample.mean())\n",
        "sub_sample.head()"
      ],
      "id": "ISMF4BeTJSKD",
      "execution_count": null,
      "outputs": []
    },
    {
      "cell_type": "code",
      "metadata": {
        "id": "yt2a0rasJSKD",
        "outputId": "dfe37678-9ef9-4f92-8e78-c54dc4164937"
      },
      "source": [
        "sample = sub_sample.groupby(['team', 'date']).agg({'smv':'sum', 'no_of_workers':'sum', 'wip':'sum', 'over_time':'sum', 'incentive':'sum', 'idle_time':'sum', 'idle_men':'sum', 'no_of_style_change':'sum', 'targeted_productivity':'max','actual_productivity':'mean'})\n",
        "sample"
      ],
      "id": "yt2a0rasJSKD",
      "execution_count": null,
      "outputs": []
    },
    {
      "cell_type": "code",
      "metadata": {
        "id": "CF4plUkDJSKE"
      },
      "source": [],
      "id": "CF4plUkDJSKE",
      "execution_count": null,
      "outputs": []
    },
    {
      "cell_type": "markdown",
      "metadata": {
        "id": "CPav0GpdJSKE"
      },
      "source": [
        "## Scale Data"
      ],
      "id": "CPav0GpdJSKE"
    },
    {
      "cell_type": "code",
      "metadata": {
        "id": "MjN6ZjxoJSKE",
        "outputId": "8dc2062d-93fc-4f58-a1fe-ba8bf49c9c63"
      },
      "source": [
        "sample.columns"
      ],
      "id": "MjN6ZjxoJSKE",
      "execution_count": null,
      "outputs": []
    },
    {
      "cell_type": "code",
      "metadata": {
        "id": "hSaLIgqCJSKE",
        "outputId": "597257ea-3fe6-4554-8850-77cb44d7ca56"
      },
      "source": [
        "scaler = MinMaxScaler()\n",
        "original_data = sample.copy()\n",
        "sample[['smv', 'no_of_workers', 'wip', 'over_time', 'incentive', 'idle_time','idle_men', 'no_of_style_change']] = scaler.fit_transform(sample[['smv', 'no_of_workers', 'wip', 'over_time', 'incentive', 'idle_time','idle_men', 'no_of_style_change']])\n",
        "sample"
      ],
      "id": "hSaLIgqCJSKE",
      "execution_count": null,
      "outputs": []
    },
    {
      "cell_type": "code",
      "metadata": {
        "id": "hmpJGGatJSKF",
        "outputId": "9febd1f7-1e56-4789-9e3e-744aff4836b6"
      },
      "source": [
        "sample.describe()"
      ],
      "id": "hmpJGGatJSKF",
      "execution_count": null,
      "outputs": []
    },
    {
      "cell_type": "markdown",
      "metadata": {
        "id": "iglObDlFJSKF"
      },
      "source": [
        "## Stationarity Analysis"
      ],
      "id": "iglObDlFJSKF"
    },
    {
      "cell_type": "code",
      "metadata": {
        "id": "-pAEFGOPJSKG"
      },
      "source": [
        "data = sample.reset_index()\n",
        "data_1 = data.loc[data['team']==1].set_index('date', drop=True)[['actual_productivity']]\n",
        "data_1.index = pd.to_datetime(data_1.index)\n",
        "data_1.sort_index(inplace=True)"
      ],
      "id": "-pAEFGOPJSKG",
      "execution_count": null,
      "outputs": []
    },
    {
      "cell_type": "code",
      "metadata": {
        "id": "ue2-qq3cJSKG",
        "outputId": "fe275b9b-eb4a-4e72-a6e6-3059094c09dc"
      },
      "source": [
        "plt.style.use('seaborn-darkgrid')\n",
        "plt.figure(figsize=(10, 7))\n",
        "plt.plot(data_1)\n",
        "plt.title('Team 1 Productivity', fontsize=14)\n",
        "plt.xlabel('Date', fontsize=12)\n",
        "plt.xticks(rotation = 45)\n",
        "plt.ylabel('Actual Productivity', fontsize=12)\n",
        "plt.show()"
      ],
      "id": "ue2-qq3cJSKG",
      "execution_count": null,
      "outputs": []
    },
    {
      "cell_type": "markdown",
      "metadata": {
        "id": "H7CIdMrVJSKG"
      },
      "source": [
        "### Moving Mean and Variance Test"
      ],
      "id": "H7CIdMrVJSKG"
    },
    {
      "cell_type": "code",
      "metadata": {
        "id": "6MB5XpU8JSKH",
        "outputId": "73036eb5-6af4-4092-b6e6-3012786a61ea"
      },
      "source": [
        "split = len(data_1)//2\n",
        "x1, x2 = data_1[:split], data_1[split:]\n",
        "print(\"Mean of the splits are: \", x1.mean()['actual_productivity'], x2.mean()['actual_productivity'])\n",
        "print(\"Variance of the splits are: \", x1.var()['actual_productivity'], x2.var()['actual_productivity'])"
      ],
      "id": "6MB5XpU8JSKH",
      "execution_count": null,
      "outputs": []
    },
    {
      "cell_type": "markdown",
      "metadata": {
        "id": "W4gYUoffJSKH"
      },
      "source": [
        "### Augmented Dickey-Fuller test"
      ],
      "id": "W4gYUoffJSKH"
    },
    {
      "cell_type": "code",
      "metadata": {
        "id": "YdwJ5_LKJSKH",
        "outputId": "cfd1d5fd-ce7b-4a90-b1a3-c33d0b5738bb"
      },
      "source": [
        "from statsmodels.tsa.stattools import adfuller\n",
        "\n",
        "result = adfuller(data_1)\n",
        "print('ADF Statistic: %f' % result[0])\n",
        "print('p-value: %f' % result[1])\n",
        "print('Critical Values:')\n",
        "for key, value in result[4].items():\n",
        "\tprint('\\t%s: %.3f' % (key, value))\n",
        "\n",
        "# p value<0.05, data does not have a unit root and is stationary"
      ],
      "id": "YdwJ5_LKJSKH",
      "execution_count": null,
      "outputs": []
    },
    {
      "cell_type": "markdown",
      "metadata": {
        "id": "0sMPzonkJSKI"
      },
      "source": [
        "## Covariance and Correlation"
      ],
      "id": "0sMPzonkJSKI"
    },
    {
      "cell_type": "code",
      "metadata": {
        "id": "0xaIxlFVJSKI",
        "outputId": "04a9100b-08e0-4b49-9106-2181edaf5e79"
      },
      "source": [
        "sample.cov()"
      ],
      "id": "0xaIxlFVJSKI",
      "execution_count": null,
      "outputs": []
    },
    {
      "cell_type": "code",
      "metadata": {
        "id": "9kwg3cyEJSKI",
        "outputId": "8cd87806-ebda-4aec-d9fd-8a4cb2780696"
      },
      "source": [
        "sample.corr()"
      ],
      "id": "9kwg3cyEJSKI",
      "execution_count": null,
      "outputs": []
    },
    {
      "cell_type": "code",
      "execution_count": null,
      "metadata": {},
      "outputs": [],
      "source": [
        "corrMatrix = sample.corr()\n",
        "plt.figure(figsize=(15, 8))\n",
        "sns.heatmap(corrMatrix, annot=True, cmap='Blues')\n",
        "plt.show()"
      ]
    },
    {
      "cell_type": "markdown",
      "metadata": {
        "id": "t6EB194WJSKJ"
      },
      "source": [
        "## Noise Filtering"
      ],
      "id": "t6EB194WJSKJ"
    },
    {
      "cell_type": "code",
      "metadata": {
        "id": "D6CljxUXJSKJ"
      },
      "source": [
        "data_freq = data_1.asfreq('D', method='ffill')\n",
        "data_freq_mean = data_freq.resample('W').mean()"
      ],
      "id": "D6CljxUXJSKJ",
      "execution_count": null,
      "outputs": []
    },
    {
      "cell_type": "code",
      "metadata": {
        "id": "Je8qt5C0JSKJ",
        "outputId": "6bfc9d43-f532-4b47-9dd9-2572259221a1"
      },
      "source": [
        "fig, ax = plt.subplots(figsize=(12, 8))\n",
        "ax.plot(data_freq['actual_productivity'],\n",
        "marker='.', linestyle='-', linewidth=0.5, label='Daily')\n",
        "ax.plot(data_freq_mean['actual_productivity'],\n",
        "marker='o', markersize=8, linestyle='-', label='Weekly Mean')\n",
        "ax.set_ylabel('Actual Productivity')\n",
        "ax.legend()"
      ],
      "id": "Je8qt5C0JSKJ",
      "execution_count": null,
      "outputs": []
    },
    {
      "source": [
        "### Savgol Filter"
      ],
      "cell_type": "markdown",
      "metadata": {}
    },
    {
      "cell_type": "code",
      "metadata": {
        "id": "pJI9Ry1QJSKK",
        "outputId": "7d1d4279-51c8-4967-a8a1-f0e97fdaa3d0"
      },
      "source": [
        "from scipy.signal import savgol_filter\n",
        "ts = data_freq['actual_productivity']\n",
        "x = np.arange(0, 70)\n",
        "\n",
        "\n",
        "n = 10\n",
        "a = len(ts.index)-1\n",
        "ts_filter = savgol_filter(ts, a, n)\n",
        "tsf = pd.Series(ts_filter)\n",
        "tsf.index = ts.index\n",
        "\n",
        "fig, ax = plt.subplots(figsize=(12, 8))\n",
        "ax.plot(ts, marker='.', linestyle='-', linewidth=0.5, label='Original')\n",
        "ax.plot(tsf, marker='o', linestyle='-', linewidth=0.5, label='Filtered')\n",
        "ax.set_ylabel('Actual Productivity')\n",
        "ax.legend()\n"
      ],
      "id": "pJI9Ry1QJSKK",
      "execution_count": null,
      "outputs": []
    },
    {
      "source": [
        "### Gaussian Filter"
      ],
      "cell_type": "markdown",
      "metadata": {}
    },
    {
      "cell_type": "code",
      "execution_count": null,
      "metadata": {},
      "outputs": [],
      "source": [
        "from scipy.ndimage import filters\n",
        "from scipy.signal import convolve, gaussian\n",
        "\n",
        "windows_size=70\n",
        "gauss_sd=3\n",
        "window = gaussian(windows_size, gauss_sd)\n",
        "data_gaussian_filter = dict()\n",
        "\n",
        "output_gauss=convolve(ts, window/window.sum(), mode='same')\n",
        "output = pd.Series(output_gauss, name='actual_productivity', index=ts.index)\n",
        "\n",
        "plt.figure(figsize=(12, 8))\n",
        "plt.plot(ts, marker='.', linestyle='-', linewidth=0.5, label ='Original')\n",
        "plt.plot(output, marker='o', linestyle='-', linewidth=0.5, label = 'Filtered')\n",
        "plt.legend(loc='upper left')\n",
        "plt.show()"
      ]
    },
    {
      "cell_type": "code",
      "execution_count": null,
      "metadata": {},
      "outputs": [],
      "source": []
    },
    {
      "cell_type": "markdown",
      "metadata": {
        "id": "1c42apVtJSKK"
      },
      "source": [
        "## Spectral Density Function"
      ],
      "id": "1c42apVtJSKK"
    },
    {
      "cell_type": "markdown",
      "metadata": {
        "id": "9S8f6_sfJSKK"
      },
      "source": [
        "### Without Filter"
      ],
      "id": "9S8f6_sfJSKK"
    },
    {
      "cell_type": "code",
      "metadata": {
        "id": "OuP1EsN5JSKL",
        "outputId": "e436e4b6-1b2a-407b-8db0-181604bae19b"
      },
      "source": [
        "import matplotlib.mlab as mlab\n",
        "\n",
        "frame_per_second = 1000\n",
        "fig = plt.figure(figsize=(15, 8))\n",
        "ax = plt.axes()\n",
        "\n",
        "sdf = plt.psd(ts, NFFT = 256, Fs = frame_per_second, window = mlab.window_none, scale_by_freq = True)\n"
      ],
      "id": "OuP1EsN5JSKL",
      "execution_count": null,
      "outputs": []
    },
    {
      "cell_type": "markdown",
      "metadata": {
        "id": "9-SH0mbyJSKL"
      },
      "source": [
        "### With filter"
      ],
      "id": "9-SH0mbyJSKL"
    },
    {
      "cell_type": "code",
      "metadata": {
        "id": "SEA6TV3UJSKL",
        "outputId": "1be17cf6-63a6-4fb7-ed2a-2357b265d399"
      },
      "source": [
        "fig = plt.figure(figsize=(15, 8))\n",
        "ax = plt.axes()\n",
        "\n",
        "sdf_2 = plt.psd(tsf, NFFT = 256, Fs = frame_per_second, window = mlab.window_none, scale_by_freq = True)\n"
      ],
      "id": "SEA6TV3UJSKL",
      "execution_count": null,
      "outputs": []
    },
    {
      "cell_type": "markdown",
      "metadata": {
        "id": "ntpR7L-oJSKM"
      },
      "source": [
        "## Autoregression Model"
      ],
      "id": "ntpR7L-oJSKM"
    },
    {
      "cell_type": "markdown",
      "metadata": {
        "id": "4tmhD3Z0JSKM"
      },
      "source": [
        "### On Unfiltered Data"
      ],
      "id": "4tmhD3Z0JSKM"
    },
    {
      "cell_type": "code",
      "metadata": {
        "id": "As6dbiGUJSKN",
        "outputId": "9956f25d-1831-4fc5-c3e4-cca629439b32"
      },
      "source": [
        "pd.plotting.lag_plot(ts)"
      ],
      "id": "As6dbiGUJSKN",
      "execution_count": null,
      "outputs": []
    },
    {
      "cell_type": "code",
      "metadata": {
        "id": "ZTdtfVHKJSKN",
        "outputId": "de7bf1d0-95ab-4a30-e5ee-bca6e77262a3"
      },
      "source": [
        "pd.plotting.autocorrelation_plot(ts)"
      ],
      "id": "ZTdtfVHKJSKN",
      "execution_count": null,
      "outputs": []
    },
    {
      "cell_type": "code",
      "metadata": {
        "id": "xSuTimXFJSKN",
        "outputId": "b629b4d7-bb0e-4307-d14d-bdc2ca4022e1"
      },
      "source": [
        "values = pd.DataFrame(ts.values, dtype=np.float64)\n",
        "dataframe = pd.concat([values.shift(1), values], axis=1)\n",
        "dataframe.columns = ['t', 't+1']\n",
        "X = dataframe.values\n",
        "train_size = 50\n",
        "train, test = X[1:train_size], X[train_size:]\n",
        "train_X, train_y = train[:,0], train[:,1]\n",
        "test_X, test_y = test[:,0], test[:,1]\n",
        "\n",
        "# persistence model on training set\n",
        "train_pred = [x for x in train_X]\n",
        "\n",
        "# residuals\n",
        "train_resid = [train_y[i]-train_pred[i] for i in range(len(train_pred))]\n",
        "\n",
        "# model the training set residuals\n",
        "window = 7\n",
        "model = AutoReg(train_resid, lags=window, old_names=True)\n",
        "model_fit = model.fit()\n",
        "coef = model_fit.params\n",
        "\n",
        "history = train_resid[len(train_resid)-window:]\n",
        "history = [history[i] for i in range(len(history))]\n",
        "predictions = list()\n",
        "expected_error = list()\n",
        "for t in range(len(test_y)):\n",
        "\n",
        "\t# persistence\n",
        "\tyhat = test_X[t]\n",
        "\terror = test_y[t] - yhat\n",
        "\texpected_error.append(error)\n",
        "\n",
        "\t# predict error\n",
        "\tlength = len(history)\n",
        "\tlag = [history[i] for i in range(length-window,length)]\n",
        "\tpred_error = coef[0]\n",
        "\tfor d in range(window):\n",
        "\t\tpred_error += coef[d+1] * lag[window-d-1]\n",
        "\n",
        "    # correct the prediction\n",
        "\tyhat = yhat + pred_error\n",
        "\tpredictions.append(yhat)\n",
        "\thistory.append(error)\n",
        "\tprint('predicted=%f, expected=%f' % (yhat, test_y[t]))\n",
        "# Metrics\n",
        "print(\"\\nR2 Score: \", r2_score(test_y, predictions))\n",
        "print(\"RMSE: \", np.sqrt(mean_squared_error(test_y, predictions)))\n",
        "print(\"Mean Squared Error: \", mean_squared_error(test_y, predictions))\n",
        "print(\"Mean Absolute Error: \", mean_absolute_error(test_y, predictions))\n",
        "residual_uf = test_y - predictions"
      ],
      "id": "xSuTimXFJSKN",
      "execution_count": null,
      "outputs": []
    },
    {
      "cell_type": "code",
      "metadata": {
        "id": "97KTalGOJSKO",
        "outputId": "14f3d22d-df80-44d7-fa01-06a265b69b58"
      },
      "source": [
        "# plot predicted error\n",
        "plt.figure(figsize=(10, 6))\n",
        "dt = ts[len(ts)-20:].index.values\n",
        "plt.plot(dt, test_y, label = 'Actual Productivity')\n",
        "plt.plot(dt, predictions, color='red', label='Predicted Productivity')\n",
        "plt.xticks(rotation=45)\n",
        "plt.legend()\n",
        "plt.show()"
      ],
      "id": "97KTalGOJSKO",
      "execution_count": null,
      "outputs": []
    },
    {
      "cell_type": "markdown",
      "metadata": {
        "id": "Vu8kE_UDJSKP"
      },
      "source": [
        "### On filtered Data"
      ],
      "id": "Vu8kE_UDJSKP"
    },
    {
      "cell_type": "code",
      "metadata": {
        "id": "VqlKQsTiJSKP",
        "outputId": "cdf8a2d6-f75d-4193-fdb4-b7a7dbe51e00"
      },
      "source": [
        "pd.plotting.lag_plot(tsf)"
      ],
      "id": "VqlKQsTiJSKP",
      "execution_count": null,
      "outputs": []
    },
    {
      "cell_type": "code",
      "metadata": {
        "id": "EDPqhJArJSKQ",
        "outputId": "27d28b71-6461-4c5b-f899-380eac8da3d7"
      },
      "source": [
        "pd.plotting.autocorrelation_plot(tsf)"
      ],
      "id": "EDPqhJArJSKQ",
      "execution_count": null,
      "outputs": []
    },
    {
      "cell_type": "code",
      "metadata": {
        "id": "UDlkYeUrJSKQ",
        "outputId": "526cc6b5-ff96-4c9f-ee43-f47db51140f1"
      },
      "source": [
        "values = pd.DataFrame(tsf.values, dtype=np.float64)\n",
        "dataframe = pd.concat([values.shift(1), values], axis=1)\n",
        "dataframe.columns = ['t', 't+1']\n",
        "X = dataframe.values\n",
        "train_size = 50\n",
        "train, test = X[1:train_size], X[train_size:]\n",
        "train_X, train_y = train[:,0], train[:,1]\n",
        "test_X, test_y = test[:,0], test[:,1]\n",
        "\n",
        "# persistence model on training set\n",
        "train_pred = [x for x in train_X]\n",
        "\n",
        "# residuals\n",
        "train_resid = [train_y[i]-train_pred[i] for i in range(len(train_pred))]\n",
        "\n",
        "# model the training set residuals\n",
        "window = 15\n",
        "model = AutoReg(train_resid, lags=window, old_names=True)\n",
        "model_fit = model.fit()\n",
        "coef = model_fit.params\n",
        "\n",
        "history = train_resid[len(train_resid)-window:]\n",
        "history = [history[i] for i in range(len(history))]\n",
        "predictions = list()\n",
        "expected_error = list()\n",
        "for t in range(len(test_y)):\n",
        "\n",
        "\t# persistence\n",
        "\tyhat = test_X[t]\n",
        "\terror = test_y[t] - yhat\n",
        "\texpected_error.append(error)\n",
        "\n",
        "\t# predict error\n",
        "\tlength = len(history)\n",
        "\tlag = [history[i] for i in range(length-window,length)]\n",
        "\tpred_error = coef[0]\n",
        "\tfor d in range(window):\n",
        "\t\tpred_error += coef[d+1] * lag[window-d-1]\n",
        "\n",
        "    # correct the prediction\n",
        "\tyhat = yhat + pred_error\n",
        "\tpredictions.append(yhat)\n",
        "\thistory.append(error)\n",
        "\tprint('predicted=%f, expected=%f' % (yhat, test_y[t]))\n",
        "# metrics\n",
        "print(\"\\nR2 Score: \", r2_score(test_y, predictions))\n",
        "print(\"RMSE: \", np.sqrt(mean_squared_error(test_y, predictions)))\n",
        "print(\"Mean Squared Error: \", mean_squared_error(test_y, predictions))\n",
        "print(\"Mean Absolute Error: \", mean_absolute_error(test_y, predictions))\n",
        "residual_f = test_y - predictions"
      ],
      "id": "UDlkYeUrJSKQ",
      "execution_count": null,
      "outputs": []
    },
    {
      "cell_type": "code",
      "metadata": {
        "id": "GXcVfk51JSKR",
        "outputId": "a78c9846-3865-4313-f3f4-d9725c7afd59"
      },
      "source": [
        "plt.figure(figsize=(10, 6))\n",
        "dt = tsf[len(tsf)-20:].index.values\n",
        "plt.plot(dt, test_y, label = 'Actual Productivity')\n",
        "plt.plot(dt, predictions, color='red', label='Predicted Productivity')\n",
        "plt.xticks(rotation=45)\n",
        "plt.legend()\n",
        "plt.show()"
      ],
      "id": "GXcVfk51JSKR",
      "execution_count": null,
      "outputs": []
    },
    {
      "source": [
        "## Model as a Linear Dynamical System"
      ],
      "cell_type": "markdown",
      "metadata": {}
    },
    {
      "cell_type": "code",
      "execution_count": null,
      "metadata": {},
      "outputs": [],
      "source": [
        "input_data = data.loc[data['team']==1].set_index('date', drop=True)\n",
        "input_data.index = pd.to_datetime(input_data.index)\n",
        "input_data.sort_index(inplace=True)\n",
        "input_data = input_data[['smv', 'wip', 'incentive', 'targeted_productivity', 'actual_productivity']].asfreq('D', method='ffill')\n",
        "input_data"
      ]
    },
    {
      "cell_type": "code",
      "execution_count": null,
      "metadata": {},
      "outputs": [],
      "source": [
        "from statsmodels.tsa.api import VAR\n",
        "\n",
        "model = VAR(input_data, freq=\"1D\")\n",
        "model.select_order(10).summary()"
      ]
    },
    {
      "cell_type": "code",
      "execution_count": null,
      "metadata": {},
      "outputs": [],
      "source": [
        "results = model.fit(7)\n",
        "print(results.summary())"
      ]
    },
    {
      "cell_type": "code",
      "execution_count": null,
      "metadata": {},
      "outputs": [],
      "source": [
        "def add_lags(s, lag, tar):\n",
        "    new_dict={}\n",
        "    for col_name in s:\n",
        "        new_dict[col_name]=s[col_name]\n",
        "        if col_name not in tar:\n",
        "            for l in range(1,lag+1):\n",
        "                new_dict['%s_lag%d' %(col_name,l)]=s[col_name].shift(l)\n",
        "    res=pd.DataFrame(new_dict,index=s.index)\n",
        "    return res"
      ]
    },
    {
      "cell_type": "code",
      "execution_count": null,
      "metadata": {},
      "outputs": [],
      "source": [
        "from sklearn.ensemble import RandomForestRegressor\n",
        "\n",
        "def fit_and_predict(X, y, n=20):\n",
        "    lr = RandomForestRegressor(n_estimators = 10)\n",
        "    lr.fit(X[:len(X)-n], y[:len(y)-n].ravel())\n",
        "    preds = lr.predict(X[len(X)-n:])\n",
        "    plt.figure(figsize=(15, 8))\n",
        "    plt.plot(X[len(X)-n:].index.values, y[len(y)-n:], label='Original Data')\n",
        "    plt.plot(X[len(X)-n:].index.values, preds, label='Predicted Data')\n",
        "    plt.xticks(rotation='45')\n",
        "    plt.legend()\n",
        "    #plt.savefig('filtered.png')\n",
        "    plt.show()\n",
        "    y_true = y[len(y)-n:].reshape(n,)\n",
        "    print(\"R2 Score: \", r2_score(y_true, preds))\n",
        "    print(\"RMSE: \", np.sqrt(mean_squared_error(y_true, preds)))\n",
        "    print(\"Mean Squared Error: \", mean_squared_error(y_true, preds))\n",
        "    print(\"Mean Absolute Error: \", mean_absolute_error(y_true, preds))\n",
        "    return (y_true-preds)\n"
      ]
    },
    {
      "source": [
        "### Target => actual_productivity"
      ],
      "cell_type": "markdown",
      "metadata": {}
    },
    {
      "cell_type": "code",
      "execution_count": null,
      "metadata": {},
      "outputs": [],
      "source": [
        "df = add_lags(s=input_data, lag=7, tar=['actual_productivity']).dropna()\n",
        "X = df.loc[:, df.columns != 'actual_productivity']\n",
        "y = df[['actual_productivity']].values\n",
        "print(X.columns)\n",
        "residual_uflds = fit_and_predict(X, y, 20)"
      ]
    },
    {
      "source": [
        "### Target => wip"
      ],
      "cell_type": "markdown",
      "metadata": {}
    },
    {
      "cell_type": "code",
      "execution_count": null,
      "metadata": {},
      "outputs": [],
      "source": [
        "df = add_lags(s=input_data, lag=7, tar=['wip']).dropna()\n",
        "X = df.loc[:, df.columns != 'wip']\n",
        "y = df[['wip']].values\n",
        "print(X.columns)\n",
        "_ = fit_and_predict(X, y, 20)"
      ]
    },
    {
      "source": [
        "### Target => smv"
      ],
      "cell_type": "markdown",
      "metadata": {}
    },
    {
      "cell_type": "code",
      "execution_count": null,
      "metadata": {},
      "outputs": [],
      "source": [
        "df = add_lags(s=input_data, lag=7, tar=['smv']).dropna()\n",
        "X = df.loc[:, df.columns != 'smv']\n",
        "y = df[['smv']].values\n",
        "print(X.columns)\n",
        "_ = fit_and_predict(X, y, 20)"
      ]
    },
    {
      "source": [
        "### Target => targeted_productivity"
      ],
      "cell_type": "markdown",
      "metadata": {}
    },
    {
      "cell_type": "code",
      "execution_count": null,
      "metadata": {},
      "outputs": [],
      "source": [
        "df = add_lags(s=input_data, lag=7, tar=['targeted_productivity']).dropna()\n",
        "X = df.loc[:, df.columns != 'targeted_productivity']\n",
        "y = df[['targeted_productivity']].values\n",
        "print(X.columns)\n",
        "_ = fit_and_predict(X, y, 20)"
      ]
    },
    {
      "source": [
        "### Filtered Data"
      ],
      "cell_type": "markdown",
      "metadata": {}
    },
    {
      "cell_type": "code",
      "execution_count": null,
      "metadata": {},
      "outputs": [],
      "source": [
        "input_data['actual_productivity'] = tsf.values\n",
        "input_data"
      ]
    },
    {
      "cell_type": "code",
      "execution_count": null,
      "metadata": {},
      "outputs": [],
      "source": [
        "df = add_lags(s=input_data, lag=7, tar=['actual_productivity']).dropna()\n",
        "X = df.loc[:, df.columns != 'actual_productivity']\n",
        "y = df[['actual_productivity']].values\n",
        "print(X.columns)\n",
        "residual_flds = fit_and_predict(X, y, 20)"
      ]
    },
    {
      "source": [
        "## Residual Analysis"
      ],
      "cell_type": "markdown",
      "metadata": {}
    },
    {
      "source": [
        "### AutoReg - Unfiltered"
      ],
      "cell_type": "markdown",
      "metadata": {}
    },
    {
      "cell_type": "code",
      "execution_count": null,
      "metadata": {},
      "outputs": [],
      "source": [
        "sns.histplot(residual_uf, kde=True, stat='density', label='residuals', bins=10)\n",
        "plt.ylabel('density')\n",
        "plt.legend()\n",
        "plt.show()"
      ]
    },
    {
      "cell_type": "code",
      "execution_count": null,
      "metadata": {},
      "outputs": [],
      "source": [
        "fig, ax = plt.subplots(figsize=(6,2.5))\n",
        "_, (__, ___, r) = stats.probplot(residual_uf, plot=ax, fit=True)"
      ]
    },
    {
      "source": [
        "### AutoReg - Filtered"
      ],
      "cell_type": "markdown",
      "metadata": {}
    },
    {
      "cell_type": "code",
      "execution_count": null,
      "metadata": {},
      "outputs": [],
      "source": [
        "sns.histplot(residual_f, kde=True, stat='density', label='residuals', bins=10)\n",
        "plt.ylabel('density')\n",
        "plt.legend()\n",
        "plt.show()"
      ]
    },
    {
      "cell_type": "code",
      "execution_count": null,
      "metadata": {},
      "outputs": [],
      "source": [
        "fig, ax = plt.subplots(figsize=(6,2.5))\n",
        "_, (__, ___, r) = stats.probplot(residual_f, plot=ax, fit=True)"
      ]
    },
    {
      "source": [
        "### LDS Unfiltered"
      ],
      "cell_type": "markdown",
      "metadata": {}
    },
    {
      "cell_type": "code",
      "execution_count": null,
      "metadata": {},
      "outputs": [],
      "source": [
        "sns.histplot(residual_uflds, kde=True, stat='density', label='residuals', bins=10)\n",
        "plt.ylabel('density')\n",
        "plt.legend()\n",
        "plt.show()"
      ]
    },
    {
      "cell_type": "code",
      "execution_count": null,
      "metadata": {},
      "outputs": [],
      "source": [
        "fig, ax = plt.subplots(figsize=(6,2.5))\n",
        "_, (__, ___, r) = stats.probplot(residual_uflds, plot=ax, fit=True)"
      ]
    },
    {
      "source": [
        "### LDS Filtered"
      ],
      "cell_type": "markdown",
      "metadata": {}
    },
    {
      "cell_type": "code",
      "execution_count": null,
      "metadata": {},
      "outputs": [],
      "source": [
        "sns.histplot(residual_flds, kde=True, stat='density', label='residuals', bins=10)\n",
        "plt.ylabel('density')\n",
        "plt.legend()\n",
        "plt.show()"
      ]
    },
    {
      "cell_type": "code",
      "execution_count": null,
      "metadata": {},
      "outputs": [],
      "source": [
        "fig, ax = plt.subplots(figsize=(6,2.5))\n",
        "_, (__, ___, r) = stats.probplot(residual_flds, plot=ax, fit=True)"
      ]
    },
    {
      "cell_type": "code",
      "execution_count": null,
      "metadata": {},
      "outputs": [],
      "source": []
    }
  ]
}