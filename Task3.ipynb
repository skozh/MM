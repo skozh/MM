{
  "nbformat": 4,
  "nbformat_minor": 5,
  "metadata": {
    "kernelspec": {
      "name": "python38864bitdataanalysisconda564580263a49439e8a15d442db35f58c",
      "display_name": "Python 3.8.8 64-bit ('DataAnalysis': conda)"
    },
    "language_info": {
      "codemirror_mode": {
        "name": "ipython",
        "version": 3
      },
      "file_extension": ".py",
      "mimetype": "text/x-python",
      "name": "python",
      "nbconvert_exporter": "python",
      "pygments_lexer": "ipython3",
      "version": "3.8.8"
    },
    "metadata": {
      "interpreter": {
        "hash": "13195b30c93389c2f22c088a884d3bf0266e65f0fdc223a2c6a1b0cccf225297"
      }
    },
    "colab": {
      "name": "Task3.ipynb",
      "provenance": [],
      "collapsed_sections": [],
      "toc_visible": true
    }
  },
  "cells": [
    {
      "cell_type": "markdown",
      "metadata": {
        "id": "KllfDUHbMAzZ"
      },
      "source": [
        "Shyju Kozhisseri<br/>ID: 309572<br/>Group: J41323c"
      ],
      "id": "KllfDUHbMAzZ"
    },
    {
      "cell_type": "markdown",
      "metadata": {
        "id": "NRLlr96HMAzl"
      },
      "source": [
        "## Import Data"
      ],
      "id": "NRLlr96HMAzl"
    },
    {
      "cell_type": "code",
      "metadata": {
        "colab": {
          "base_uri": "https://localhost:8080/"
        },
        "id": "indian-franchise",
        "outputId": "abc5ee00-29b7-43b7-90b0-b5b35e6ae76a"
      },
      "source": [
        "import matplotlib.pyplot as plt\n",
        "import numpy as np\n",
        "import pandas as pd\n",
        "import seaborn as sns\n",
        "import scipy.stats as stats\n",
        "from sklearn.preprocessing import MinMaxScaler\n",
        "from sklearn.decomposition import PCA\n",
        "from statsmodels.stats.outliers_influence import variance_inflation_factor\n",
        "from sklearn.preprocessing import KBinsDiscretizer\n",
        "from copy import  copy\n",
        "import networkx as nx\n",
        "import warnings\n",
        "warnings.filterwarnings(\"ignore\",category=DeprecationWarning)\n",
        "warnings.filterwarnings(\"ignore\",category=UserWarning)"
      ],
      "id": "indian-franchise",
      "execution_count": null,
      "outputs": []
    },
    {
      "cell_type": "code",
      "metadata": {
        "id": "excess-shipping"
      },
      "source": [
        "input = pd.read_csv('garments_worker_productivity.csv')"
      ],
      "id": "excess-shipping",
      "execution_count": null,
      "outputs": []
    },
    {
      "cell_type": "code",
      "metadata": {
        "colab": {
          "base_uri": "https://localhost:8080/",
          "height": 224
        },
        "id": "bizarre-choir",
        "outputId": "22110784-55cb-46bb-bc46-dafb8117dfcd"
      },
      "source": [
        "input.head()"
      ],
      "id": "bizarre-choir",
      "execution_count": null,
      "outputs": []
    },
    {
      "cell_type": "code",
      "metadata": {
        "colab": {
          "base_uri": "https://localhost:8080/",
          "height": 317
        },
        "id": "superb-aviation",
        "outputId": "c2a18312-239f-475a-dfe1-9a1c555d4734"
      },
      "source": [
        "input.describe()"
      ],
      "id": "superb-aviation",
      "execution_count": null,
      "outputs": []
    },
    {
      "cell_type": "code",
      "metadata": {
        "colab": {
          "base_uri": "https://localhost:8080/"
        },
        "id": "asian-garage",
        "outputId": "556b285f-7793-4bca-e682-78f07fea712a"
      },
      "source": [
        "input.isna().sum()"
      ],
      "id": "asian-garage",
      "execution_count": null,
      "outputs": []
    },
    {
      "cell_type": "code",
      "metadata": {
        "colab": {
          "base_uri": "https://localhost:8080/",
          "height": 439
        },
        "id": "9EXn0UiSMAzs",
        "outputId": "06508e90-75ff-4c37-8178-16fb4c357e5a"
      },
      "source": [
        "sub_sample = input[['team','smv', 'no_of_workers', 'wip', 'over_time', 'incentive', 'idle_time', 'idle_men', 'no_of_style_change', 'targeted_productivity', 'actual_productivity']]\n",
        "sub_sample"
      ],
      "id": "9EXn0UiSMAzs",
      "execution_count": null,
      "outputs": []
    },
    {
      "cell_type": "code",
      "metadata": {
        "colab": {
          "base_uri": "https://localhost:8080/",
          "height": 224
        },
        "id": "-uGdKnMSMAzt",
        "outputId": "50e333aa-da81-4945-c2bf-90b34bedb819"
      },
      "source": [
        "sub_sample = sub_sample.fillna(sub_sample.mean())\n",
        "sub_sample.head()"
      ],
      "id": "-uGdKnMSMAzt",
      "execution_count": null,
      "outputs": []
    },
    {
      "cell_type": "markdown",
      "metadata": {
        "id": "KvPVT1mGMAzt"
      },
      "source": [
        "## Scale Data"
      ],
      "id": "KvPVT1mGMAzt"
    },
    {
      "cell_type": "code",
      "metadata": {
        "colab": {
          "base_uri": "https://localhost:8080/"
        },
        "id": "ZCnm1LmFMAzu",
        "outputId": "e2df84c6-86b8-4b55-d152-3e6f5815d920"
      },
      "source": [
        "sub_sample.columns"
      ],
      "id": "ZCnm1LmFMAzu",
      "execution_count": null,
      "outputs": []
    },
    {
      "cell_type": "code",
      "metadata": {
        "colab": {
          "base_uri": "https://localhost:8080/",
          "height": 439
        },
        "id": "twfP-5OVMAzu",
        "outputId": "d2e61b0f-6c71-496b-ba2b-40064547697c"
      },
      "source": [
        "scaler = MinMaxScaler()\n",
        "original_data = sub_sample.copy()\n",
        "sub_sample[['smv', 'no_of_workers', 'wip', 'over_time', 'incentive', 'idle_time','idle_men', 'no_of_style_change', 'team']] = scaler.fit_transform(sub_sample.iloc[:,:-2])\n",
        "sub_sample"
      ],
      "id": "twfP-5OVMAzu",
      "execution_count": null,
      "outputs": []
    },
    {
      "cell_type": "code",
      "metadata": {
        "colab": {
          "base_uri": "https://localhost:8080/",
          "height": 317
        },
        "id": "dG6xapZmMAzv",
        "outputId": "a33a02a3-9c1b-4484-edef-80207ca3580a"
      },
      "source": [
        "sub_sample.describe()"
      ],
      "id": "dG6xapZmMAzv",
      "execution_count": null,
      "outputs": []
    },
    {
      "cell_type": "markdown",
      "metadata": {
        "id": "iEU24LC7MAzw"
      },
      "source": [
        "## Correlation Coefficient"
      ],
      "id": "iEU24LC7MAzw"
    },
    {
      "cell_type": "code",
      "metadata": {
        "colab": {
          "base_uri": "https://localhost:8080/",
          "height": 410
        },
        "id": "vHs36JQCMAzw",
        "outputId": "04b41769-4283-462b-e994-a5ff0e1f0e96"
      },
      "source": [
        "sub_sample.corr()"
      ],
      "id": "vHs36JQCMAzw",
      "execution_count": null,
      "outputs": []
    },
    {
      "cell_type": "code",
      "metadata": {
        "colab": {
          "base_uri": "https://localhost:8080/",
          "height": 990
        },
        "id": "sE6q_JctMAzw",
        "outputId": "90574ac7-c12d-4b23-cb17-5e00ead1f323"
      },
      "source": [
        "corrMatrix = sub_sample.corr()\n",
        "plt.rcParams['figure.figsize'] = [20, 20]\n",
        "sns.heatmap(corrMatrix, annot=True, cmap='Blues')\n",
        "plt.show()"
      ],
      "id": "sE6q_JctMAzw",
      "execution_count": null,
      "outputs": []
    },
    {
      "cell_type": "code",
      "metadata": {
        "colab": {
          "base_uri": "https://localhost:8080/",
          "height": 390
        },
        "id": "VKkCxS96MAzx",
        "outputId": "b3b626c9-fba8-41a9-ca8b-97347a9bb38b"
      },
      "source": [
        "vif_data = pd.DataFrame()\n",
        "vif_data[\"feature\"] = sub_sample.columns\n",
        "\n",
        "vif_data[\"VIF\"] = [variance_inflation_factor(sub_sample.values, i)\n",
        "                          for i in range(len(sub_sample.columns))]\n",
        "\n",
        "vif_data"
      ],
      "id": "VKkCxS96MAzx",
      "execution_count": null,
      "outputs": []
    },
    {
      "cell_type": "markdown",
      "metadata": {
        "id": "7-mttZfaMAzy"
      },
      "source": [
        "## Sampling"
      ],
      "id": "7-mttZfaMAzy"
    },
    {
      "cell_type": "markdown",
      "metadata": {
        "id": "KAWnxa349vds"
      },
      "source": [
        "### Inverse Transform Sampling"
      ],
      "id": "KAWnxa349vds"
    },
    {
      "cell_type": "code",
      "metadata": {
        "colab": {
          "base_uri": "https://localhost:8080/",
          "height": 1000
        },
        "id": "N5n0nCs59vdt",
        "outputId": "1e44f278-0a75-40ec-ebbf-47f02b1cd6ce"
      },
      "source": [
        "from scipy.stats import ks_2samp\n",
        "from functools import partial\n",
        "\n",
        "def inv_transform_sampling(values, num_samples=100):\n",
        "\n",
        "    n_bins = int(1 + (3.322 * np.log(values.shape[0])).round())\n",
        "    hist, bin_edges = np.histogram(values, bins=n_bins, density=True)\n",
        "    cum_values = np.zeros(bin_edges.shape)\n",
        "    cum_values[1:] = np.cumsum(hist * np.diff(bin_edges))\n",
        "    inversed_cdf = partial(np.interp, xp=cum_values, fp=bin_edges)\n",
        "    uniform_values = np.random.rand(num_samples)\n",
        "    \n",
        "    return inversed_cdf(uniform_values), n_bins\n",
        "\n",
        "\n",
        "\n",
        "\n",
        "for column in sub_sample:\n",
        "\n",
        "    plt.figure(figsize=(8, 5))\n",
        "    nsample, n_bins = inv_transform_sampling(sub_sample[column], num_samples=100)\n",
        "    x = np.linspace(nsample.min(), nsample.max(), len(nsample))\n",
        "    kernel = stats.gaussian_kde(sub_sample[column])\n",
        "    kde_values = kernel(x)\n",
        "    sns.histplot(nsample, stat='density', bins=10, kde=True, label=column+'_sample')\n",
        "    plt.title(column)\n",
        "    plt.plot(x, kde_values, 'r--', label='Original')\n",
        "    plt.ylabel('p')\n",
        "    plt.xlabel('sample')\n",
        "    plt.legend()\n",
        "    plt.show()\n",
        "    print(ks_2samp(nsample, sub_sample[column]))"
      ],
      "id": "N5n0nCs59vdt",
      "execution_count": null,
      "outputs": []
    },
    {
      "cell_type": "markdown",
      "metadata": {
        "id": "FOGk-1GT9vdu"
      },
      "source": [
        "### Neiman Sampling"
      ],
      "id": "FOGk-1GT9vdu"
    },
    {
      "cell_type": "code",
      "metadata": {
        "colab": {
          "base_uri": "https://localhost:8080/",
          "height": 1000
        },
        "id": "0zrd-Czw9vdu",
        "outputId": "d0e3f92f-550b-45a5-f9a1-e2e17ae2f77c"
      },
      "source": [
        "def geom_sampling(values, num_samples=100):\n",
        "\n",
        "    n_bins = int(1 + (3.322 * np.log(values.shape[0])).round())\n",
        "    hist, bin_edges = np.histogram(values, bins=n_bins, density=True)\n",
        "    left, right = np.min(bin_edges), np.max(bin_edges)\n",
        "    bottom, top = np.min(hist), np.max(hist)\n",
        "    accept_samples = np.asarray([])\n",
        "    \n",
        "    while accept_samples.shape[0] < num_samples:\n",
        "        x_sampl = np.random.uniform(left, right, size=(num_samples,))\n",
        "        y_sampl = np.random.uniform(bottom, top, size=(num_samples,))\n",
        "        x_indices = np.digitize(x_sampl, bin_edges) - 1\n",
        "        y_mask = (y_sampl <= hist[x_indices])\n",
        "        accept_samples = np.concatenate([accept_samples, x_sampl[y_mask]])\n",
        "    \n",
        "    return accept_samples[:num_samples], n_bins\n",
        "\n",
        "\n",
        "\n",
        "for column in sub_sample:\n",
        "\n",
        "    plt.figure(figsize=(8, 5))\n",
        "    nsample, n_bins = geom_sampling(sub_sample[column], num_samples=100)\n",
        "    x = np.linspace(nsample.min(), nsample.max(), len(nsample))\n",
        "    kernel = stats.gaussian_kde(sub_sample[column])\n",
        "    kde_values = kernel(x)\n",
        "    sns.histplot(nsample, stat='density', bins=10, kde=True, label=column+'_sample')\n",
        "    plt.title(column)\n",
        "    plt.plot(x, kde_values, 'r--', label='Original')\n",
        "    plt.ylabel('p')\n",
        "    plt.xlabel('sample')\n",
        "    plt.legend()\n",
        "    plt.show()\n",
        "    print(ks_2samp(nsample, sub_sample[column]))"
      ],
      "id": "0zrd-Czw9vdu",
      "execution_count": null,
      "outputs": []
    },
    {
      "cell_type": "markdown",
      "metadata": {
        "id": "0NVvPJ6-MAz2"
      },
      "source": [
        "### Cluster Sampling"
      ],
      "id": "0NVvPJ6-MAz2"
    },
    {
      "cell_type": "code",
      "metadata": {
        "id": "ceC5_YacMAz3"
      },
      "source": [
        "from sklearn.cluster import KMeans\n",
        "kmeans = KMeans(n_clusters=4, random_state=0).fit(sub_sample.iloc[:, -1].values.reshape(-1, 1))"
      ],
      "id": "ceC5_YacMAz3",
      "execution_count": null,
      "outputs": []
    },
    {
      "cell_type": "code",
      "metadata": {
        "colab": {
          "base_uri": "https://localhost:8080/",
          "height": 224
        },
        "id": "HvWCWlmgMAz3",
        "outputId": "fcf1caa0-f384-4404-844b-fc93ec31e672"
      },
      "source": [
        "new_sample = sub_sample.copy()\n",
        "new_sample['labels'] = kmeans.labels_\n",
        "new_sample.head()"
      ],
      "id": "HvWCWlmgMAz3",
      "execution_count": null,
      "outputs": []
    },
    {
      "cell_type": "code",
      "metadata": {
        "id": "a6hEWt1tMAz4"
      },
      "source": [
        "def cluster_sampling(df, number_of_clusters, number_of_items):\n",
        "\n",
        "    sample = pd.DataFrame(columns=df.columns)\n",
        "    item_per_cluster = -(-number_of_items//number_of_clusters)\n",
        "\n",
        "    for index in range(number_of_clusters):\n",
        "        data = df.loc[df['labels']==index].sample(item_per_cluster)\n",
        "        sample = sample.append(data)\n",
        "    sample = sample.iloc[:number_of_items,:].sort_index()\n",
        "    return sample\n"
      ],
      "id": "a6hEWt1tMAz4",
      "execution_count": null,
      "outputs": []
    },
    {
      "cell_type": "code",
      "metadata": {
        "colab": {
          "base_uri": "https://localhost:8080/",
          "height": 224
        },
        "id": "fHHxNCD5MAz4",
        "outputId": "197bf18a-eef6-4d7a-bed3-9f37afd53726"
      },
      "source": [
        "cluster_sample = cluster_sampling(new_sample, 4, 100)\n",
        "cluster_sample.head()"
      ],
      "id": "fHHxNCD5MAz4",
      "execution_count": null,
      "outputs": []
    },
    {
      "cell_type": "code",
      "metadata": {
        "colab": {
          "base_uri": "https://localhost:8080/"
        },
        "id": "g2qdPmFbMAz5",
        "outputId": "e2f182cd-ceab-4610-e0bb-997c5b0314e0"
      },
      "source": [
        "cluster_sample.mean(), sub_sample.mean()"
      ],
      "id": "g2qdPmFbMAz5",
      "execution_count": null,
      "outputs": []
    },
    {
      "cell_type": "code",
      "metadata": {
        "colab": {
          "base_uri": "https://localhost:8080/"
        },
        "id": "w8HzHNcyMAz5",
        "outputId": "a8485a64-e254-4bc8-ab52-4411d18a5119"
      },
      "source": [
        "cluster_sample.var(), sub_sample.var()"
      ],
      "id": "w8HzHNcyMAz5",
      "execution_count": null,
      "outputs": []
    },
    {
      "cell_type": "code",
      "metadata": {
        "colab": {
          "base_uri": "https://localhost:8080/",
          "height": 1000
        },
        "id": "kOV7Ac2vexEE",
        "outputId": "9a47903b-32a1-46c4-d500-43c1ca04d4eb"
      },
      "source": [
        "for index, column in enumerate(sub_sample.columns):\n",
        "    y = cluster_sample[column]\n",
        "    y_all = sub_sample[column]\n",
        "    x = np.linspace(y.min(), y.max(), len(y))\n",
        "\n",
        "    if y.var() != 0:\n",
        "      plt.figure(figsize=(8, 5))\n",
        "      kernel = stats.gaussian_kde(y_all)\n",
        "      kde_values = kernel(x)\n",
        "\n",
        "      sns.histplot(y, kde=True, stat='density', label=column, bins=10)\n",
        "      plt.plot(x, kde_values, 'r--', label='Original')\n",
        "      plt.ylabel('p')\n",
        "      plt.xlabel('sample')\n",
        "      plt.legend()\n",
        "      plt.show()\n",
        "      print(ks_2samp(y, y_all))"
      ],
      "id": "kOV7Ac2vexEE",
      "execution_count": null,
      "outputs": []
    },
    {
      "cell_type": "markdown",
      "metadata": {
        "id": "gZs8qk2GHGnG"
      },
      "source": [
        "## Relation Predictors vs Target"
      ],
      "id": "gZs8qk2GHGnG"
    },
    {
      "cell_type": "code",
      "metadata": {
        "colab": {
          "base_uri": "https://localhost:8080/",
          "height": 1000
        },
        "id": "PyXtUf8XHGnG",
        "outputId": "b549f542-a28a-48f6-9abc-506f961bf210"
      },
      "source": [
        "corrMatrix = sub_sample.corr()\n",
        "sns.heatmap(corrMatrix, annot=True, cmap='Blues')\n",
        "#plt.savefig('corr.png')"
      ],
      "id": "PyXtUf8XHGnG",
      "execution_count": null,
      "outputs": []
    },
    {
      "cell_type": "markdown",
      "metadata": {
        "id": "DPb0wW6iMAz6"
      },
      "source": [
        "## Bayesian Network"
      ],
      "id": "DPb0wW6iMAz6"
    },
    {
      "cell_type": "code",
      "metadata": {
        "id": "fj0G_0RQMAz6"
      },
      "source": [
        "from pgmpy.models import BayesianModel\n",
        "from pgmpy.inference import VariableElimination\n",
        "from pgmpy.estimators import MaximumLikelihoodEstimator, BayesianEstimator, BDeuScore, K2Score, BicScore, HillClimbSearch, TreeSearch\n",
        "from pgmpy.sampling import BayesianModelSampling\n",
        "from pgmpy.base import DAG"
      ],
      "id": "fj0G_0RQMAz6",
      "execution_count": null,
      "outputs": []
    },
    {
      "cell_type": "code",
      "metadata": {
        "colab": {
          "base_uri": "https://localhost:8080/"
        },
        "id": "S15XOiEIOXJC",
        "outputId": "e05c5119-2bf8-4c4a-8c53-6264fe7e4ca2"
      },
      "source": [
        "data_sample = cluster_sample.iloc[:, :-1]\n",
        "data_sample.columns"
      ],
      "id": "S15XOiEIOXJC",
      "execution_count": null,
      "outputs": []
    },
    {
      "cell_type": "code",
      "metadata": {
        "id": "PZzw_FcoMAz9"
      },
      "source": [
        "transformed_data = copy(data_sample)\n",
        "est = KBinsDiscretizer(n_bins=3, encode='ordinal', strategy='kmeans')\n",
        "data_discrete = est.fit_transform(data_sample[['team','no_of_workers', 'idle_men', 'no_of_style_change']])\n",
        "transformed_data[['team','no_of_workers', 'idle_men', 'no_of_style_change']] = data_discrete"
      ],
      "id": "PZzw_FcoMAz9",
      "execution_count": null,
      "outputs": []
    },
    {
      "cell_type": "code",
      "metadata": {
        "colab": {
          "base_uri": "https://localhost:8080/"
        },
        "id": "TzAqqG2DOXJF",
        "outputId": "657cabd5-e92e-4a50-f850-0caa366ed10d"
      },
      "source": [
        "blacklist = [(x, y) for x in transformed_data.columns.to_list() for y in ['smv', 'wip'] if x != y]\n",
        "blacklist"
      ],
      "id": "TzAqqG2DOXJF",
      "execution_count": null,
      "outputs": []
    },
    {
      "cell_type": "code",
      "metadata": {
        "id": "CEmYnrPHOXJF"
      },
      "source": [
        "def sampling (bn: DAG, data: pd.DataFrame, n: int = 100):\n",
        "    bn_new = BayesianModel(bn.edges())\n",
        "    bn_new.fit(data)\n",
        "    sampler = BayesianModelSampling(bn_new)\n",
        "    sample = sampler.forward_sample(size=n, return_type='dataframe')\n",
        "    return sample"
      ],
      "id": "CEmYnrPHOXJF",
      "execution_count": null,
      "outputs": []
    },
    {
      "cell_type": "markdown",
      "metadata": {
        "id": "aPptGYMroCFu"
      },
      "source": [
        "## Basic Network"
      ],
      "id": "aPptGYMroCFu"
    },
    {
      "cell_type": "code",
      "metadata": {
        "colab": {
          "base_uri": "https://localhost:8080/",
          "height": 391
        },
        "id": "c3NZS_70oFmV",
        "outputId": "7cff40a5-0e9c-4421-87e3-382e1407f03a"
      },
      "source": [
        "model = BayesianModel([(\"smv\", \"wip\"),(\"incentive\",\"over_time\"),(\"over_time\", \"wip\"), \n",
        "                       (\"wip\", \"targeted_productivity\"),(\"team\",\"targeted_productivity\"),\n",
        "                       (\"targeted_productivity\", \"actual_productivity\")                       \n",
        "                       ])\n",
        "\n",
        "G_bm = nx.DiGraph()\n",
        "G_bm.add_edges_from(model.edges())\n",
        "pos = nx.layout.circular_layout(G_bm)\n",
        "plt.figure(figsize=(8,5)) \n",
        "nx.draw(G_bm, pos, with_labels=True,font_weight='bold')"
      ],
      "id": "c3NZS_70oFmV",
      "execution_count": null,
      "outputs": []
    },
    {
      "cell_type": "code",
      "metadata": {
        "colab": {
          "base_uri": "https://localhost:8080/"
        },
        "id": "vQHmuydBp0Re",
        "outputId": "f9cd7fd4-de07-4b3e-c7b0-ce35c190da4b"
      },
      "source": [
        "sample_bm = sampling(model, transformed_data, 100)\n",
        "sample_bm.columns"
      ],
      "id": "vQHmuydBp0Re",
      "execution_count": null,
      "outputs": []
    },
    {
      "cell_type": "code",
      "metadata": {
        "id": "t2i_obf0qJlV"
      },
      "source": [
        "sample_bm[['incentive', 'targeted_productivity', 'over_time', 'wip']] = est.inverse_transform(sample_bm[['incentive', 'targeted_productivity', 'over_time', 'wip']].values)"
      ],
      "id": "t2i_obf0qJlV",
      "execution_count": null,
      "outputs": []
    },
    {
      "cell_type": "code",
      "metadata": {
        "colab": {
          "base_uri": "https://localhost:8080/",
          "height": 353
        },
        "id": "2QATxEIDqJtB",
        "outputId": "722b64f2-c27c-4e3c-93c3-392d799c8267"
      },
      "source": [
        "plt.figure(figsize=(8,5)) \n",
        "sns.histplot(data_sample['actual_productivity'], label='Original data', color='b')\n",
        "sns.histplot(sample_bm['actual_productivity'], label='Generated data', color='orange')\n",
        "plt.legend()"
      ],
      "id": "2QATxEIDqJtB",
      "execution_count": null,
      "outputs": []
    },
    {
      "cell_type": "markdown",
      "metadata": {
        "id": "qsE9HSnuOXJG"
      },
      "source": [
        "### Chow-Liu Algorithm"
      ],
      "id": "qsE9HSnuOXJG"
    },
    {
      "cell_type": "code",
      "metadata": {
        "colab": {
          "base_uri": "https://localhost:8080/",
          "height": 408
        },
        "id": "jbbjc14tOXJG",
        "outputId": "78fea4a2-3b43-4afa-e318-3cd3bbd502e3"
      },
      "source": [
        "cb = TreeSearch(transformed_data, 'team')\n",
        "best_model_new = cb.estimate(estimator_type='chow-liu')\n",
        "G_cb = nx.DiGraph()\n",
        "G_cb.add_edges_from(best_model_new.edges())\n",
        "pos = nx.layout.circular_layout(G_cb)\n",
        "plt.figure(figsize=(8,5)) \n",
        "nx.draw(G_cb, pos, with_labels=True,font_weight='bold')"
      ],
      "id": "jbbjc14tOXJG",
      "execution_count": null,
      "outputs": []
    },
    {
      "cell_type": "code",
      "metadata": {
        "colab": {
          "base_uri": "https://localhost:8080/"
        },
        "id": "BcLWCLIQOXJI",
        "outputId": "c1146e39-2b26-4112-f064-2d87c3331e8e"
      },
      "source": [
        "sample_cb = sampling(best_model_new, transformed_data, 100)\n",
        "sample_cb.columns"
      ],
      "id": "BcLWCLIQOXJI",
      "execution_count": null,
      "outputs": []
    },
    {
      "cell_type": "code",
      "metadata": {
        "id": "zKVSFlK-OXJI"
      },
      "source": [
        "sample_cb[['incentive', 'targeted_productivity', 'over_time', 'smv']] = est.inverse_transform(sample_cb[['incentive', 'targeted_productivity', 'over_time', 'smv']].values)"
      ],
      "id": "zKVSFlK-OXJI",
      "execution_count": null,
      "outputs": []
    },
    {
      "cell_type": "code",
      "metadata": {
        "colab": {
          "base_uri": "https://localhost:8080/",
          "height": 353
        },
        "id": "qn-Hc-DOOXJJ",
        "outputId": "5c131e4a-0c40-495e-9d2b-a546be476d84"
      },
      "source": [
        "plt.figure(figsize=(8,5)) \n",
        "sns.histplot(data_sample['actual_productivity'], label='Original data', color='b')\n",
        "sns.histplot(sample_cb['actual_productivity'], label='Generated data', color='orange')\n",
        "plt.legend()"
      ],
      "id": "qn-Hc-DOOXJJ",
      "execution_count": null,
      "outputs": []
    },
    {
      "cell_type": "markdown",
      "metadata": {
        "id": "1_tVjYL2OXJL"
      },
      "source": [
        "### HillClimb Search Algorithm"
      ],
      "id": "1_tVjYL2OXJL"
    },
    {
      "cell_type": "code",
      "metadata": {
        "id": "M4KpJqyPMAz-",
        "colab": {
          "base_uri": "https://localhost:8080/",
          "height": 408
        },
        "outputId": "763c44b2-adf7-401e-ce4f-3f44ccee4c30"
      },
      "source": [
        "hc = HillClimbSearch(transformed_data, scoring_method=K2Score(transformed_data))\n",
        "best_model_new = hc.estimate(black_list=blacklist)\n",
        "G_K2 = nx.DiGraph()\n",
        "G_K2.add_edges_from(best_model_new.edges())\n",
        "pos = nx.layout.circular_layout(G_K2)\n",
        "plt.figure(figsize=(8,5)) \n",
        "nx.draw(G_K2, pos, with_labels=True,font_weight='bold')"
      ],
      "id": "M4KpJqyPMAz-",
      "execution_count": null,
      "outputs": []
    },
    {
      "cell_type": "code",
      "metadata": {
        "colab": {
          "base_uri": "https://localhost:8080/"
        },
        "id": "SgfCWlVwOXJT",
        "outputId": "8d925c1c-e5cc-446d-9eae-8c7f555493b4"
      },
      "source": [
        "sample_K2 = sampling(best_model_new, transformed_data, 100)\n",
        "sample_K2.columns"
      ],
      "id": "SgfCWlVwOXJT",
      "execution_count": null,
      "outputs": []
    },
    {
      "cell_type": "code",
      "metadata": {
        "id": "-xLctLbgOXJU"
      },
      "source": [
        "sample_K2[['incentive', 'targeted_productivity', 'over_time', 'wip']] = est.inverse_transform(sample_K2[['incentive', 'targeted_productivity', 'over_time', 'wip']].values)"
      ],
      "id": "-xLctLbgOXJU",
      "execution_count": null,
      "outputs": []
    },
    {
      "cell_type": "code",
      "metadata": {
        "colab": {
          "base_uri": "https://localhost:8080/",
          "height": 352
        },
        "id": "uv6mD4VpOXJV",
        "outputId": "fb70e574-2994-444e-e15f-e78d270d6108"
      },
      "source": [
        "plt.figure(figsize=(8,5)) \n",
        "sns.histplot(data_sample['actual_productivity'], label='Original data', color='b')\n",
        "sns.histplot(sample_K2['actual_productivity'], label='Generated data', color='orange')\n",
        "plt.legend()"
      ],
      "id": "uv6mD4VpOXJV",
      "execution_count": null,
      "outputs": []
    },
    {
      "cell_type": "markdown",
      "metadata": {
        "id": "NmG121EnRDZ6"
      },
      "source": [
        "### Performance Metrics"
      ],
      "id": "NmG121EnRDZ6"
    },
    {
      "cell_type": "code",
      "metadata": {
        "id": "2I3WTE6sOXJY"
      },
      "source": [
        "from sklearn.metrics import explained_variance_score, r2_score, mean_squared_error, mean_absolute_error"
      ],
      "id": "2I3WTE6sOXJY",
      "execution_count": null,
      "outputs": []
    },
    {
      "cell_type": "code",
      "metadata": {
        "colab": {
          "base_uri": "https://localhost:8080/",
          "height": 351
        },
        "id": "oja8A5CFRYjP",
        "outputId": "0d7a477e-93fd-4501-ba37-bcf67965d7c8"
      },
      "source": [
        "plt.figure(figsize=(8, 5))\n",
        "kernel = stats.gaussian_kde(data_sample['actual_productivity'])\n",
        "min_amount, max_amount = data_sample['actual_productivity'].min(), data_sample['actual_productivity'].max()\n",
        "x = np.linspace(min_amount, max_amount, len(data_sample['actual_productivity']))\n",
        "\n",
        "kernel2 = stats.gaussian_kde(sample_bm['actual_productivity'])\n",
        "kernel3 = stats.gaussian_kde(sample_K2['actual_productivity'])\n",
        "kernel4 = stats.gaussian_kde(sample_cb['actual_productivity'])\n",
        "\n",
        "kde_values = kernel(x)\n",
        "kde_values_bm = kernel2(x)\n",
        "kde_values_k2 = kernel3(x)\n",
        "kde_values_cb = kernel4(x)\n",
        "\n",
        "plt.plot(x, kde_values, label=\"Original Sample\")\n",
        "plt.plot(x, kde_values_bm, label=\"Generated Sample-SimpleBN\")\n",
        "plt.plot(x, kde_values_k2, label=\"Generated Sample-HCK2Score\")\n",
        "plt.plot(x, kde_values_cb, label=\"Generated Sample-ChowLiu\")\n",
        "plt.title('KDE')\n",
        "plt.ylabel('p')\n",
        "plt.xlabel('actual_productivity')\n",
        "plt.legend()\n",
        "plt.show()"
      ],
      "id": "oja8A5CFRYjP",
      "execution_count": null,
      "outputs": []
    },
    {
      "cell_type": "code",
      "metadata": {
        "colab": {
          "base_uri": "https://localhost:8080/"
        },
        "id": "G9CmREoqRLvx",
        "outputId": "2d047580-485d-490f-8fad-067ea6018add"
      },
      "source": [
        "y_true = np.sort(data_sample['actual_productivity'])\n",
        "y_pred_2 = np.sort(sample_K2['actual_productivity'])\n",
        "y_pred_3 = np.sort(sample_cb['actual_productivity'])\n",
        "y_pred_4 = np.sort(sample_bm['actual_productivity'])\n",
        "\n",
        "print(\"R2 Score (HC Approach-K2Score):\",r2_score(y_true, y_pred_2))\n",
        "print(\"R2 Score (Chow-Liu Approach):\",r2_score(y_true, y_pred_3))\n",
        "print(\"R2 Score (Simple BN):\",r2_score(y_true, y_pred_4))\n",
        "\n",
        "print(\"\\n\")\n",
        "print(\"MSE (HC Approach-K2Score):\",mean_squared_error(y_true, y_pred_2))\n",
        "print(\"MSE (Chow-Liu Approach):\",mean_squared_error(y_true, y_pred_3))\n",
        "print(\"MSE (Simple BN):\",mean_squared_error(y_true, y_pred_4))\n",
        "\n",
        "print(\"\\n\")\n",
        "print(\"MAE (HC Approach-K2Score):\",mean_absolute_error(y_true, y_pred_2))\n",
        "print(\"MAE (Chow-Liu Approach):\",mean_absolute_error(y_true, y_pred_3))\n",
        "print(\"MAE (Simple BN):\",mean_absolute_error(y_true, y_pred_4))"
      ],
      "id": "G9CmREoqRLvx",
      "execution_count": null,
      "outputs": []
    },
    {
      "cell_type": "code",
      "metadata": {
        "id": "Wo3nT0I7Satg",
        "colab": {
          "base_uri": "https://localhost:8080/"
        },
        "outputId": "a085bded-5ac6-4645-b1f0-140a23e4ba11"
      },
      "source": [
        "print(\"HC-K2Score: \", ks_2samp(sample_K2['actual_productivity'], data_sample['actual_productivity']))\n",
        "print(\"Chow-Liu: \", ks_2samp(sample_cb['actual_productivity'], data_sample['actual_productivity']))\n",
        "print(\"Simple BN: \", ks_2samp(sample_bm['actual_productivity'], data_sample['actual_productivity']))\n"
      ],
      "id": "Wo3nT0I7Satg",
      "execution_count": null,
      "outputs": []
    },
    {
      "cell_type": "code",
      "metadata": {
        "id": "vxoGZ8Y6Z6cg"
      },
      "source": [],
      "id": "vxoGZ8Y6Z6cg",
      "execution_count": null,
      "outputs": []
    }
  ]
}